{
 "cells": [
  {
   "cell_type": "code",
   "execution_count": 1,
   "id": "4e548213",
   "metadata": {},
   "outputs": [
    {
     "name": "stdout",
     "output_type": "stream",
     "text": [
      "Using Cantera version: 2.6.0\n"
     ]
    }
   ],
   "source": [
    "from IPython.display import Image, display\n",
    "from ipywidgets import widgets, interact\n",
    "import cantera as ct\n",
    "import numpy as np\n",
    "\n",
    "%matplotlib inline\n",
    "%config InlineBackend.figure_formats = [\"svg\"]\n",
    "from matplotlib import pyplot as plt\n",
    "from collections import defaultdict\n",
    "import subprocess\n",
    "\n",
    "plt.rcParams[\"figure.dpi\"] = 120\n",
    "\n",
    "print(f\"Using Cantera version: {ct.__version__}\")"
   ]
  },
  {
   "cell_type": "code",
   "execution_count": 2,
   "id": "386a601b",
   "metadata": {},
   "outputs": [
    {
     "name": "stdout",
     "output_type": "stream",
     "text": [
      "\n",
      "  gas:\n",
      "\n",
      "       temperature   2400 K\n",
      "          pressure   1e+05 Pa\n",
      "           density   0.13848 kg/m^3\n",
      "  mean mol. weight   27.634 kg/kmol\n",
      "   phase of matter   gas\n",
      "\n",
      "                          1 kg             1 kmol     \n",
      "                     ---------------   ---------------\n",
      "          enthalpy       -1.4595e+05       -4.0331e+06  J\n",
      "   internal energy       -8.6807e+05       -2.3988e+07  J\n",
      "           entropy            9917.5        2.7405e+05  J/K\n",
      "    Gibbs function       -2.3948e+07       -6.6176e+08  J\n",
      " heat capacity c_p            1526.7             42189  J/K\n",
      " heat capacity c_v            1225.8             33874  J/K\n",
      "\n",
      "                      mass frac. Y      mole frac. X     chem. pot. / RT\n",
      "                     ---------------   ---------------   ---------------\n",
      "                N2           0.72467           0.71483           -27.911\n",
      "               H2O           0.12394           0.19011           -42.088\n",
      "               CO2           0.15139          0.095057           -54.812\n",
      "               CF4        3.1847e-06             1e-06           -104.47\n",
      "     [  +76 minor]                 0                 0  \n",
      "\n"
     ]
    }
   ],
   "source": [
    "gas = ct.Solution('newer_hcof_c2_CFG.yaml')\n",
    "#gas.TPX = 1867.13, 1e5, \"CH4:1.0, CF4:0.0001, O2:2.4, N2:10\"\n",
    "#gas.TPX = 1860, 1e5, \"CH4:1, CF4:0.0001, N2:10, O2:2.4\"\n",
    "gas.TPX = 2400, 1e5, \"H2O:0.190113878, CO2:0.095056939, N2:0.714828183, CF4:0.000001\"\n",
    "residence_time = 4.4\n",
    "gas()"
   ]
  },
  {
   "cell_type": "code",
   "execution_count": 3,
   "id": "4699c33d",
   "metadata": {},
   "outputs": [],
   "source": [
    "reactor = ct.IdealGasConstPressureReactor(gas, energy=\"on\")\n",
    "reactor_network = ct.ReactorNet([reactor])\n",
    "reactor_network.atol = 1e-12\n",
    "reactor_network.rtol = 1e-12"
   ]
  },
  {
   "cell_type": "code",
   "execution_count": 4,
   "id": "dc7aca1d",
   "metadata": {},
   "outputs": [],
   "source": [
    "profiles = defaultdict(list)\n",
    "time = 0\n",
    "steps = 0\n",
    "while time < residence_time:\n",
    "    profiles[\"time\"].append(time)\n",
    "    profiles[\"pressure\"].append(gas.P)\n",
    "    profiles[\"temperature\"].append(gas.T)\n",
    "    profiles[\"mole_fractions\"].append(gas.X)\n",
    "    time = reactor_network.step()\n",
    "    steps += 1"
   ]
  },
  {
   "cell_type": "code",
   "execution_count": 5,
   "id": "43f98a7c",
   "metadata": {},
   "outputs": [],
   "source": [
    "from pathlib import Path"
   ]
  },
  {
   "cell_type": "code",
   "execution_count": 6,
   "id": "f71bdee8",
   "metadata": {},
   "outputs": [
    {
     "data": {
      "application/vnd.jupyter.widget-view+json": {
       "model_id": "226b3a5a8f434a1dbc11a6e61c7c58d2",
       "version_major": 2,
       "version_minor": 0
      },
      "text/plain": [
       "interactive(children=(IntSlider(value=100, description='plot_step', max=1076, step=10), FloatSlider(value=0.0,…"
      ]
     },
     "metadata": {},
     "output_type": "display_data"
    }
   ],
   "source": [
    "@interact(\n",
    "    plot_step=widgets.IntSlider(value=100, min=0, max=steps, step=10),\n",
    "    threshold=widgets.FloatSlider(value=0.0, min=0, max=0.001, step=0.0001),\n",
    "    details=widgets.ToggleButton(),\n",
    "    species=widgets.Dropdown(\n",
    "        options=gas.element_names,\n",
    "        value=\"C\",\n",
    "        description=\"Element\",\n",
    "        disabled=False,\n",
    "    ),\n",
    ")\n",
    "def plot_reaction_path_diagrams(plot_step, threshold, details, species):\n",
    "    P = profiles[\"pressure\"][plot_step]\n",
    "    T = profiles[\"temperature\"][plot_step]\n",
    "    X = profiles[\"mole_fractions\"][plot_step]\n",
    "    time = profiles[\"time\"][plot_step]\n",
    "    gas.TPX = T, P, X\n",
    "    print(\"time = {:.2g} s\".format(T))\n",
    "\n",
    "    diagram = ct.ReactionPathDiagram(gas, species)\n",
    "    diagram.threshold = threshold\n",
    "\n",
    "    diagram.show_details = details\n",
    "    dot_file = \"reaction_paths.dot\"\n",
    "    png_file = \"reaction_paths.png\"\n",
    "    diagram.write_dot(dot_file)\n",
    "    subprocess.run(f\"dot {dot_file} -Tpng -o{png_file} -Gdpi=100\".split())\n",
    "    img = Image(filename=png_file)\n",
    "    display(img)\n",
    "    img_path = Path.cwd().joinpath(png_file)\n"
   ]
  },
  {
   "cell_type": "code",
   "execution_count": 7,
   "id": "6d89a490",
   "metadata": {},
   "outputs": [],
   "source": [
    "##CH3F in this case\n",
    "CH3F_stoichiometry = np.zeros_like(gas.reactions())\n",
    "for i, r in enumerate(gas.reactions()):\n",
    "    CH3F_moles = r.products.get(\"CH3F\", 0) - r.reactants.get(\"CH3F\", 0)\n",
    "    CH3F_stoichiometry[i] = CH3F_moles\n",
    "CH3F_reaction_indices = CH3F_stoichiometry.nonzero()[0]"
   ]
  },
  {
   "cell_type": "code",
   "execution_count": 8,
   "id": "75aad77a",
   "metadata": {},
   "outputs": [],
   "source": [
    "profiles[\"CH3F_production_rates\"] = []\n",
    "for i in range(len(profiles[\"time\"])):\n",
    "    X = profiles[\"mole_fractions\"][i]\n",
    "    t = profiles[\"time\"][i]\n",
    "    T = profiles[\"temperature\"][i]\n",
    "    P = profiles[\"pressure\"][i]\n",
    "    gas.TPX = (T, P, X)\n",
    "    CH3F_production_rates = (\n",
    "        gas.net_rates_of_progress\n",
    "        * CH3F_stoichiometry  #  [kmol/m^3/s]\n",
    "        * gas.volume_mass  # Specific volume [m^3/kg].\n",
    "    )  # overall, mol/s/g  (g total in reactor, same basis as N_atoms_in_fuel)\n",
    "\n",
    "    profiles[\"CH3F_production_rates\"].append(\n",
    "        CH3F_production_rates[CH3F_reaction_indices]\n",
    "    )"
   ]
  },
  {
   "cell_type": "code",
   "execution_count": 9,
   "id": "14273792",
   "metadata": {},
   "outputs": [
    {
     "data": {
      "application/vnd.jupyter.widget-view+json": {
       "model_id": "0f5cc305d7fc45bbb4e61d64a1d50ca6",
       "version_major": 2,
       "version_minor": 0
      },
      "text/plain": [
       "interactive(children=(FloatSlider(value=1e-10, description='annotation_cutoff', max=4.0, min=1e-10), Output())…"
      ]
     },
     "metadata": {},
     "output_type": "display_data"
    }
   ],
   "source": [
    "@interact(\n",
    "    annotation_cutoff=widgets.FloatSlider(value=1e-10, min=1e-10, max=4, steps=10),\n",
    "    profiles=widgets.fixed(profiles),\n",
    ")\n",
    "def plot_instantaneous_fluxes(profiles, annotation_cutoff):\n",
    "    profiles = profiles\n",
    "    fig = plt.figure(figsize=(6, 6))\n",
    "    plt.plot(profiles[\"time\"], np.array(profiles[\"CH3F_production_rates\"]))\n",
    "\n",
    "    for i, CH3F_production_rate in enumerate(\n",
    "        np.array(profiles[\"CH3F_production_rates\"]).T\n",
    "    ):\n",
    "        peak_index = abs(CH3F_production_rate).argmax()\n",
    "        peak_time = profiles[\"time\"][peak_index]\n",
    "        peak_CH3F_production = CH3F_production_rate[peak_index]\n",
    "        reaction_string = gas.reaction_equations(CH3F_reaction_indices)[i]\n",
    "\n",
    "        if abs(peak_CH3F_production) > annotation_cutoff:\n",
    "            plt.annotate(\n",
    "                (reaction_string).replace(\"2\", \"$_2$\").replace(\"<=>\", \"=\"),\n",
    "                xy=(peak_time, peak_CH3F_production),\n",
    "                xytext=(\n",
    "                    peak_time * 2,\n",
    "                    (\n",
    "                        peak_CH3F_production\n",
    "                        + 0.000003\n",
    "                        * (peak_CH3F_production / abs(peak_CH3F_production))\n",
    "                        * (abs(peak_CH3F_production) > 0.000005)\n",
    "                        * (peak_CH3F_production < 0.00006)\n",
    "                    ),\n",
    "                ),\n",
    "                arrowprops=dict(\n",
    "                    arrowstyle=\"->\",\n",
    "                    color=\"black\",\n",
    "                    relpos=(0, 0.6),\n",
    "                    linewidth=2,\n",
    "                ),\n",
    "                horizontalalignment=\"left\",\n",
    "            )\n",
    "\n",
    "    plt.xlabel(\"Time (s)\", fontsize=16)\n",
    "    plt.ylabel(\"Net rates of CH3F production\", fontsize=16)\n",
    "    plt.tight_layout()\n",
    "    plt.show()"
   ]
  },
  {
   "cell_type": "code",
   "execution_count": null,
   "id": "f89ac705",
   "metadata": {},
   "outputs": [],
   "source": []
  }
 ],
 "metadata": {
  "kernelspec": {
   "display_name": "Python 3 (ipykernel)",
   "language": "python",
   "name": "python3"
  },
  "language_info": {
   "codemirror_mode": {
    "name": "ipython",
    "version": 3
   },
   "file_extension": ".py",
   "mimetype": "text/x-python",
   "name": "python",
   "nbconvert_exporter": "python",
   "pygments_lexer": "ipython3",
   "version": "3.10.4"
  }
 },
 "nbformat": 4,
 "nbformat_minor": 5
}
