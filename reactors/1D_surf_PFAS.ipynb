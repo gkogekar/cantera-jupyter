{
 "cells": [
  {
   "cell_type": "markdown",
   "metadata": {},
   "source": [
    "# One-dimensional packed-bed, catalytic-membrane reactor model without streamwise diffusion"
   ]
  },
  {
   "cell_type": "markdown",
   "metadata": {},
   "source": [
    "The present model simulates heterogeneous catalytic processes inside packed-bed, catalytic membrane reactors. The gas-phase and surface-phase species conservation equations are derived and the system of differential-algebraic equations (DAE) is solved using the scikits.odes.dae IDA solver."
   ]
  },
  {
   "cell_type": "code",
   "execution_count": 1,
   "metadata": {},
   "outputs": [
    {
     "name": "stdout",
     "output_type": "stream",
     "text": [
      "Runnning Cantera version: 2.6.0\n"
     ]
    }
   ],
   "source": [
    "# Import Cantera and scikits\n",
    "import numpy as np\n",
    "from scikits.odes import dae\n",
    "import cantera as ct\n",
    "import matplotlib.pyplot as plt\n",
    "\n",
    "%matplotlib inline\n",
    "%config InlineBackend.figure_formats = [\"svg\"]\n",
    "print(\"Runnning Cantera version: \" + ct.__version__)"
   ]
  },
  {
   "cell_type": "markdown",
   "metadata": {},
   "source": [
    "### Define gas-phase and surface-phase species"
   ]
  },
  {
   "cell_type": "code",
   "execution_count": 2,
   "metadata": {},
   "outputs": [
    {
     "name": "stdout",
     "output_type": "stream",
     "text": [
      "Number of gas-phase species =  13\n",
      "Number of surface-phase species =  33\n",
      "Number of variables =  49\n"
     ]
    }
   ],
   "source": [
    "# Import the reaction mechanism \n",
    "# mech = 'newer_hcof_c2_CFG.yaml'\n",
    "mech = 'nist_pfas.yaml'\n",
    "mech_surf = 'methane_Bjarne.yaml'\n",
    "\n",
    "# Import the model for gas-phase\n",
    "gas = ct.Solution(mech_surf, 'gas')\n",
    "\n",
    "# Import the model for surf-phase\n",
    "surf = ct.Interface(mech_surf,'surface1', [gas])\n",
    "\n",
    "# Other parameters\n",
    "n_gas = gas.n_species  # number of gas species\n",
    "n_surf = surf.n_species  # number of surface species\n",
    "n_gas_reactions = gas.n_reactions  # number of gas-phase reactions\n",
    "\n",
    "# Set offsets of dependent variables in the solution vector\n",
    "offset_rhou = 0\n",
    "offset_p = 1\n",
    "offset_T = 2\n",
    "offset_Y = 3\n",
    "offset_Z = offset_Y + n_gas\n",
    "n_var = offset_Z + n_surf  # total number of variables (rhou, P, T, Yk and Zk)\n",
    "\n",
    "print(\"Number of gas-phase species = \", n_gas)\n",
    "print(\"Number of surface-phase species = \", n_surf)\n",
    "print(\"Number of variables = \", n_var)"
   ]
  },
  {
   "cell_type": "markdown",
   "metadata": {},
   "source": [
    "### Define reactor geometry and operating conditions"
   ]
  },
  {
   "cell_type": "code",
   "execution_count": 3,
   "metadata": {},
   "outputs": [],
   "source": [
    "# Reactor geometry\n",
    "L = 5e-2  # length of the reactor (m)\n",
    "R = 5e-3  # radius of the reactor channel (m)\n",
    "dp = 3.37e-4  # particle diameter (m)\n",
    "As = 3.5e1  # specific surface area (1/m)\n",
    "\n",
    "# Energy (adiabatic or isothermal)\n",
    "solve_energy = True  # True: Adiabatic, False: isothermal\n",
    "\n",
    "# Get required properties based on the geometry and mechanism\n",
    "W_g = gas.molecular_weights  # vector of molecular weight of gas species\n",
    "area2vol = 2 / R  # area to volume ratio assuming a cylindrical reactor\n",
    "D_h = 2 * R  # hydraulic diameter\n",
    "\n",
    "# Inlet operating conditions\n",
    "T_in = 673  # inlet temperature [K]\n",
    "p_in = 1e5  # inlet pressure [Pa]\n",
    "v_in = 0.1  # inlet velocity [m/s]\n",
    "T_wall = 300  # wall temperature [K]\n",
    "h_coeff = 0  # heat transfer coefficient [W/m2/K]\n",
    "\n",
    "# Set gas and surface states\n",
    "gas.TPX = T_in, p_in, \"O2:0.006, CH4:0.003, N2:0.991\"  # inlet composition\n",
    "surf.TP = T_in, p_in\n",
    "Yk_0 = gas.Y\n",
    "rhou0 = gas.density * v_in\n",
    "\n",
    "# Initial surface coverages\n",
    "# advancing coverages over a long period of time to get the steady state.\n",
    "surf.advance_coverages(1e10)  \n",
    "Zk_0 = surf.coverages"
   ]
  },
  {
   "cell_type": "markdown",
   "metadata": {},
   "source": [
    "### Define residual function required for IDA solver"
   ]
  },
  {
   "cell_type": "code",
   "execution_count": 4,
   "metadata": {},
   "outputs": [],
   "source": [
    "def residual(z, y, yPrime, res):\n",
    "    \"\"\"Solution vector for the model\n",
    "    y = [rho*u, p, T, Yk, Zk]\n",
    "    yPrime = [d(rho*u)dz, dpdz, dTdz, dYkdz, dZkdz]\n",
    "    \"\"\"\n",
    "    # Get current thermodynamic state from solution vector and save it to local variables.\n",
    "    rhou = y[offset_rhou]  # mass flux (density * velocity)\n",
    "    Y = y[offset_Y : offset_Y + n_gas]  # vector of mass fractions\n",
    "    Z = y[offset_Z : offset_Z + n_surf] # vector of site fractions \n",
    "    p = y[offset_p]  # pressure\n",
    "    T = y[offset_T]  # temperature\n",
    "\n",
    "    # Get derivatives of dependent variables\n",
    "    drhoudz = yPrime[offset_rhou]  \n",
    "    dYdz = yPrime[offset_Y : offset_Y + n_gas] \n",
    "    dZdz = yPrime[offset_Z : offset_Z + n_surf] \n",
    "    dpdz = yPrime[offset_p]  \n",
    "    dTdz = yPrime[offset_T] \n",
    "\n",
    "    # Set current thermodynamic state for the gas and surface phases\n",
    "    # Note: use unnormalized mass fractions and site fractions to avoid over-constraining the system\n",
    "    gas.set_unnormalized_mass_fractions(Y)\n",
    "    gas.TP = T, p\n",
    "    surf.set_unnormalized_coverages(Z)\n",
    "    surf.TP = T, p\n",
    "\n",
    "    # Calculate required variables based on the current state\n",
    "    coverages = surf.coverages  # surface site coverages\n",
    "    # heterogeneous production rate of gas species\n",
    "    sdot_g = surf.get_net_production_rates(\"gas\")\n",
    "    #print(np.sum(sdot_g * W_g))\n",
    "    # heterogeneous production rate of surface species\n",
    "    sdot_s = surf.get_net_production_rates(\"surface1\")\n",
    "    wdot_g = np.zeros(n_gas)\n",
    "    # specific heat of the mixture\n",
    "    cp = gas.cp_mass  \n",
    "    # partial enthalpies of gas species\n",
    "    hk_g = gas.partial_molar_enthalpies  \n",
    "\n",
    "    if n_gas_reactions > 0:\n",
    "        # homogeneous production rate of gas species\n",
    "        wdot_g = gas.net_production_rates  \n",
    "    mu = gas.viscosity  # viscosity of the gas-phase\n",
    "\n",
    "    # Calculate density using equation of state\n",
    "    rho = gas.density\n",
    "\n",
    "    # Conservation of total-mass\n",
    "    # temporary variable\n",
    "    sum_continuity = As * np.sum(sdot_g * W_g) + np.sum(wdot_g * W_g)  \n",
    "    res[offset_rhou] = (drhoudz - sum_continuity)\n",
    "\n",
    "    # Conservation of gas-phase species        \n",
    "    res[offset_Y:offset_Y+ n_gas] = (dYdz + (Y * sum_continuity - np.multiply(wdot_g,W_g) \n",
    "                                     - As * np.multiply(sdot_g,W_g)) / rhou)\n",
    "    \n",
    "    # Conservation of site fractions (algebraic contraints in this example)\n",
    "    res[offset_Z : offset_Z + n_surf] = sdot_s\n",
    "\n",
    "    # For the species with largest site coverage (k_large), solve the constraint equation: sum(Zk) = 1\n",
    "    # The residual function for 'k_large' would be 'res[k_large] = 1 - sum(Zk)'\n",
    "    # Note that here sum(Zk) will be the sum of coverages for all surface species, including the 'k_large' species.\n",
    "    ind_large = np.argmax(coverages)\n",
    "    res[offset_Z + ind_large] = 1 - np.sum(coverages)\n",
    "\n",
    "    # Conservation of momentum\n",
    "    u = rhou / rho\n",
    "    res[offset_p] = dpdz - 0 #2*rho*u*dudz + np.power(u,2)*drhodz + dpdz + 32*u*mu/D**2 \n",
    "\n",
    "    # Conservation of energy\n",
    "    res[offset_T] = dTdz - 0  # isothermal condition\n",
    "    # Note: One can just not solve the energy equation by keeping temperature constant. \n",
    "    # But since 'T' is used as the dependent variable, the residual is res[T] = dTdz - 0 \n",
    "    # One can also write res[T] = 0 directly, but that leads to a solver failure due to singular jacobian\n",
    "\n",
    "    if solve_energy:\n",
    "        conv_term = (4 / D_h) * h_coeff * (T_wall - T) * (2 * np.pi * R)\n",
    "        chem_term = np.sum(hk_g * (wdot_g + As * sdot_g))\n",
    "        res[offset_T] -= (conv_term - chem_term) / (rhou * cp)"
   ]
  },
  {
   "cell_type": "markdown",
   "metadata": {},
   "source": [
    "### Calculate the spatial derivatives at the inlet that will be used as the initial conditions for the IDA solver\n"
   ]
  },
  {
   "cell_type": "code",
   "execution_count": 5,
   "metadata": {},
   "outputs": [
    {
     "name": "stdout",
     "output_type": "stream",
     "text": [
      "[ 1.00024202e-19  0.00000000e+00 -1.45482167e-13  0.00000000e+00\n",
      "  0.00000000e+00  0.00000000e+00 -1.98164246e-18  8.03991245e-18\n",
      " -2.05826821e-17 -1.92456409e-19 -2.41937623e-27 -9.43078479e-19\n",
      "  1.56599470e-17  0.00000000e+00  0.00000000e+00  0.00000000e+00\n",
      "  9.11815288e-26 -3.16963116e-33 -6.66133815e-16 -1.52305131e-28\n",
      "  6.42040992e-47  5.20534958e-36  1.34412249e-26 -5.81333600e-35\n",
      " -1.48537718e-28  8.19459959e-58  7.01200450e-42  0.00000000e+00\n",
      "  1.06065172e-34 -4.91483141e-32  1.26656831e-38 -1.30062128e-46\n",
      "  5.10551157e-39  0.00000000e+00  0.00000000e+00 -1.83197155e-33\n",
      "  2.34548908e-30  1.35653619e-28  6.96847747e-32  2.83680183e-21\n",
      "  1.65862629e-30  9.40395435e-38  3.29244126e-28  7.76195024e-34\n",
      " -1.48540589e-28 -2.89845179e-46  1.37284801e-39  4.55723431e-46\n",
      " -1.76628679e-34]\n"
     ]
    }
   ],
   "source": [
    "# Initialize yPrime to 0 and call residual to get initial derivatives\n",
    "y0 = np.hstack((rhou0, p_in, T_in, Yk_0, Zk_0))\n",
    "yprime0 = np.zeros(n_var)\n",
    "res = np.zeros(n_var)\n",
    "residual(0, y0, yprime0, res)\n",
    "yprime0 = -res\n",
    "print(res)"
   ]
  },
  {
   "cell_type": "markdown",
   "metadata": {},
   "source": [
    "### Solve the system of DAEs using ida solver"
   ]
  },
  {
   "cell_type": "code",
   "execution_count": 8,
   "metadata": {},
   "outputs": [
    {
     "ename": "TypeError",
     "evalue": "'<' not supported between instances of 'NoneType' and 'float'",
     "output_type": "error",
     "traceback": [
      "\u001b[1;31m---------------------------------------------------------------------------\u001b[0m",
      "\u001b[1;31mTypeError\u001b[0m                                 Traceback (most recent call last)",
      "Input \u001b[1;32mIn [8]\u001b[0m, in \u001b[0;36m<cell line: 19>\u001b[1;34m()\u001b[0m\n\u001b[0;32m     15\u001b[0m state \u001b[38;5;241m=\u001b[39m solver\u001b[38;5;241m.\u001b[39minit_step(\u001b[38;5;241m0.0\u001b[39m, y0, yprime0)\n\u001b[0;32m     17\u001b[0m \u001b[38;5;66;03m# Note that here the variable t is an internal varible used in scikits. In this example, it represents\u001b[39;00m\n\u001b[0;32m     18\u001b[0m \u001b[38;5;66;03m# the natural variable z, which corresponds to the axial distance inside the reactor.\u001b[39;00m\n\u001b[1;32m---> 19\u001b[0m \u001b[38;5;28;01mwhile\u001b[39;00m \u001b[43mstate\u001b[49m\u001b[38;5;241;43m.\u001b[39;49m\u001b[43mvalues\u001b[49m\u001b[38;5;241;43m.\u001b[39;49m\u001b[43mt\u001b[49m\u001b[43m \u001b[49m\u001b[38;5;241;43m<\u001b[39;49m\u001b[43m \u001b[49m\u001b[43mL\u001b[49m:\n\u001b[0;32m     20\u001b[0m     distance\u001b[38;5;241m.\u001b[39mappend(state\u001b[38;5;241m.\u001b[39mvalues\u001b[38;5;241m.\u001b[39mt)\n\u001b[0;32m     21\u001b[0m     solution\u001b[38;5;241m.\u001b[39mappend(state\u001b[38;5;241m.\u001b[39mvalues\u001b[38;5;241m.\u001b[39my)\n",
      "\u001b[1;31mTypeError\u001b[0m: '<' not supported between instances of 'NoneType' and 'float'"
     ]
    }
   ],
   "source": [
    "solver = dae(\n",
    "    \"ida\",\n",
    "    residual,\n",
    "    first_step_size=1e-15,\n",
    "    atol=1e-08,  # absolute tolerance for solution\n",
    "    rtol=1e-04,  # relative tolerance for solution\n",
    "    algebraic_vars_idx=[np.arange(offset_Y + n_gas, offset_Z + n_surf, 1)],\n",
    "    max_steps=10000,\n",
    "    one_step_compute=True,\n",
    "    old_api=False,  # forces use of new api (namedtuple)\n",
    ")\n",
    "\n",
    "distance = []\n",
    "solution = []\n",
    "state = solver.init_step(0.0, y0, yprime0)\n",
    "\n",
    "# Note that here the variable t is an internal varible used in scikits. In this example, it represents\n",
    "# the natural variable z, which corresponds to the axial distance inside the reactor.\n",
    "while state.values.t < L:\n",
    "    distance.append(state.values.t)\n",
    "    solution.append(state.values.y)\n",
    "    state = solver.step(L)\n",
    "\n",
    "distance = np.array(distance)\n",
    "solution = np.array(solution)\n",
    "#print(state)"
   ]
  },
  {
   "cell_type": "markdown",
   "metadata": {},
   "source": [
    "### Plot results"
   ]
  },
  {
   "cell_type": "code",
   "execution_count": null,
   "metadata": {},
   "outputs": [],
   "source": [
    "plt.rcParams[\"font.size\"] = 14\n",
    "f, ax = plt.subplots(3, 2, figsize=(12, 12), dpi=96)\n",
    "\n",
    "# Plot gas pressure profile along the flow direction\n",
    "ax[0, 0].plot(distance, solution[:, offset_p], color=\"C0\")\n",
    "ax[0, 0].set_xlabel(\"Distance (m)\")\n",
    "ax[0, 0].set_ylabel(\"Pressure (Pa)\")\n",
    "\n",
    "# Plot gas temperature profile along the flow direction\n",
    "ax[0, 1].plot(distance, solution[:, offset_T], color=\"C1\")\n",
    "ax[0, 1].set_xlabel(\"Distance (m)\")\n",
    "ax[0, 1].set_ylabel(\"Temperature (K)\")\n",
    "\n",
    "# Plot major and minor gas species separately\n",
    "minor_idx = []\n",
    "major_idx = []\n",
    "for j, name in enumerate(gas.species_names):\n",
    "    mean = np.mean(solution[:, offset_Y + j])\n",
    "    if mean <= 0.1:\n",
    "        minor_idx.append(j)\n",
    "    else:\n",
    "        major_idx.append(j)\n",
    "\n",
    "# Plot mass fractions of the gas-phase species along the flow direction\n",
    "\n",
    "# Major gas-phase species\n",
    "for j in major_idx:\n",
    "    ax[1, 0].plot(distance, solution[:, offset_Y + j], label=gas.species_names[j])\n",
    "ax[1, 0].legend(fontsize=12, loc=\"best\")\n",
    "ax[1, 0].set_xlabel(\"Distance (m)\")\n",
    "ax[1, 0].set_ylabel(\"Mass Fraction\")\n",
    "\n",
    "# Minor gas-phase species\n",
    "for j in minor_idx:\n",
    "    ax[1, 1].plot(distance, solution[:, offset_Y + j], label=gas.species_names[j])\n",
    "ax[1, 1].legend(fontsize=12, loc=\"best\")\n",
    "ax[1, 1].set_xlabel(\"Distance (m)\")\n",
    "ax[1, 1].set_ylabel(\"Mass Fraction\")\n",
    "\n",
    "# Plot major and minor surface species separately\n",
    "minor_idx = []\n",
    "major_idx = []\n",
    "for j, name in enumerate(surf.species_names):\n",
    "    mean = np.mean(solution[:, offset_Z + j])\n",
    "    if mean <= 0.1:\n",
    "        minor_idx.append(j)\n",
    "    else:\n",
    "        major_idx.append(j)\n",
    "\n",
    "# Plot the site fraction of the surface-phase species along the flow direction\n",
    "# Major surf-phase species\n",
    "for j in major_idx:\n",
    "    ax[2, 0].plot(distance, solution[:, offset_Z + j], label=surf.species_names[j])\n",
    "ax[2, 0].legend(fontsize=12, loc=\"best\")\n",
    "ax[2, 0].set_xlabel(\"Distance (m)\")\n",
    "ax[2, 0].set_ylabel(\"Site Fraction\")\n",
    "\n",
    "# Minor surf-phase species\n",
    "for j in minor_idx:\n",
    "    ax[2, 1].plot(distance, solution[:, offset_Z + j], label=surf.species_names[j])\n",
    "ax[2, 1].legend(fontsize=12, loc=\"best\")\n",
    "ax[2, 1].set_xlabel(\"Distance (m)\")\n",
    "ax[2, 1].set_ylabel(\"Site Fraction\")\n",
    "f.tight_layout()"
   ]
  },
  {
   "cell_type": "code",
   "execution_count": null,
   "metadata": {},
   "outputs": [],
   "source": []
  }
 ],
 "metadata": {
  "kernelspec": {
   "display_name": "Python 3 (ipykernel)",
   "language": "python",
   "name": "python3"
  },
  "language_info": {
   "codemirror_mode": {
    "name": "ipython",
    "version": 3
   },
   "file_extension": ".py",
   "mimetype": "text/x-python",
   "name": "python",
   "nbconvert_exporter": "python",
   "pygments_lexer": "ipython3",
   "version": "3.9.16"
  }
 },
 "nbformat": 4,
 "nbformat_minor": 4
}
